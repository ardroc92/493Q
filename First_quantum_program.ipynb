{
 "cells": [
  {
   "cell_type": "markdown",
   "metadata": {},
   "source": [
    "<h1 style=\"color:MediumSeaGreen;\">Your first quantum program</h1>"
   ]
  },
  {
   "cell_type": "markdown",
   "metadata": {},
   "source": [
    "To write and run quantum programs, we will be using the Python package *Qiskit*: this is developed by IBM and lets us build and run quantum circuits on IBM's very own quantum computer.\n",
    "\n",
    "Using other packages we will be able to \"convert\" circuits written in qiskit to circuits that we can run on other quantum devices.\n",
    "\n",
    "A very important thing to note is that you can also *simulate* quantum circuits of small enough size on classical computers: recall that performing quantum gates is nothing other than multiplying matrices and vectors. Such calculations can certainly be performed by a classical computer! The catch is that they very quickly become intractable as the size of the quantum circuits being simulated grows. qiskit also provides a functionality for simulating quantum circuits. You will mostly be running classical simulations of the quantum circuits that you write, but you will sometimes run them on actual quantum devices as part of your homeworks. Once you have written the code for a simulation of a quantum circuit, running it on an actual quantum device will be as simple as changing one argument in your code. "
   ]
  },
  {
   "cell_type": "markdown",
   "metadata": {},
   "source": [
    "Let's build our first quantum circuit, which does the following: starting from a qubit in the state $\\left| 0 \\right \\rangle$, it applies a Hadamard gate, and then measures."
   ]
  },
  {
   "cell_type": "code",
   "execution_count": 2,
   "metadata": {},
   "outputs": [
    {
     "data": {
      "image/png": "[encoded data removed]",
      "text/plain": [
       "<Figure size 185.453x200.667 with 1 Axes>"
      ]
     },
     "execution_count": 2,
     "metadata": {},
     "output_type": "execute_result"
    }
   ],
   "source": [
    "# qiskit contains the class QuantumCircuit with which you can build quantum circuits.\n",
    "# So, the first step is to import this class\n",
    "from qiskit import QuantumCircuit\n",
    "\n",
    "# The QuantumCircuit class is initialized by specifying the number of qubits in the circuit.\n",
    "# When we measure the quantum circuit later, we will need a classical bit to store the output \n",
    "#from each qubit.\n",
    "circ = QuantumCircuit(1,1)\n",
    "# The first argument '1' to QuantumCircuit specifies that we will be using just 1 qubit. \n",
    "# The second argument '1' specifies that we will be storing a single classical bit \n",
    "# of output from our future measurement, i.e. we will measure a single qubit.\n",
    "\n",
    "#To add a Hadamard gate we use the function 'h' of QuantumCircuit:\n",
    "circ.h(0)\n",
    "\n",
    "# In the above line, circ is the circuit we just created, and we are inserting the hadamard gate using '.h(0)'\n",
    "# The '0' in the argument specifies that we want the gate to be applied on the zeroth qubit.\n",
    "# And yes, the qubit numbering starts at 0, as is typical in Python.\n",
    "\n",
    "# At this point we already have a quantum circuit ready. We can \"draw\" it by using the function 'draw'\n",
    "circ.draw(output='mpl')"
   ]
  },
  {
   "cell_type": "markdown",
   "metadata": {},
   "source": [
    "The circuit above is the quantum circuit we specified. The bottom wire just reminds us that we will be storing one bit from the output of our measurement."
   ]
  },
  {
   "cell_type": "markdown",
   "metadata": {},
   "source": [
    "So far we have only drawn the quantum circuit. To actually run the circuit and measure its output we will make use of two additional modules in qiskit: \"Aer\" and \"execute\". But first, let's add the measurement operation in our circuit."
   ]
  },
  {
   "cell_type": "code",
   "execution_count": 3,
   "metadata": {},
   "outputs": [
    {
     "name": "stdout",
     "output_type": "stream",
     "text": [
      "{'0': 477, '1': 523}\n"
     ]
    }
   ],
   "source": [
    "circ.measure(0,0)\n",
    "# The first argument specifies that we are measuring the first qubit (Python starts counting\n",
    "# from zero), and the second argument specifies that we are storing the output \n",
    "# of this measurement in the first output bit.\n",
    "\n",
    "# Import Aer and execute\n",
    "from qiskit import Aer, execute\n",
    "# The Aer module contains many simulators. We will be using one called qasm_simulator. \n",
    "# By convention, we refer to the simulator (or the actual quantum computer) as a backend.\n",
    "# and if you wanted to run your quantum circuit on an actual quantum computer, you would just need to replace\n",
    "# 'qasm_simulator' with the name of the quantum computer.\n",
    "backend_sim = Aer.get_backend('qasm_simulator')\n",
    "\n",
    "# Once you specify the backend, you can just go ahead and execute the circuit with the function execute.\n",
    "sim = execute(circ, backend_sim, shots=1000)\n",
    "# Shots specifies how many times the quantum circuit is run.\n",
    "\n",
    "# The results from the execution are stored in 'sim' and can be obtained using\n",
    "sim_result = sim.result()\n",
    "\n",
    "# From the result object we can get the count of the 0s and 1s from the circuit\n",
    "counts = sim_result.get_counts(circ)\n",
    "print(counts)"
   ]
  },
  {
   "cell_type": "markdown",
   "metadata": {},
   "source": [
    "We ran the quantum circuit 1000 times. As you could expect, we got outcomes '0' and '1' roughly with a 50-50 split. We can plot the outcomes stored in the variable 'counts' using the following code:"
   ]
  },
  {
   "cell_type": "code",
   "execution_count": 4,
   "metadata": {},
   "outputs": [
    {
     "data": {
      "image/png": "[encoded data removed]",
      "text/plain": [
       "<Figure size 700x500 with 1 Axes>"
      ]
     },
     "execution_count": 4,
     "metadata": {},
     "output_type": "execute_result"
    }
   ],
   "source": [
    "from qiskit.visualization import plot_histogram\n",
    "plot_histogram(counts)"
   ]
  },
  {
   "cell_type": "markdown",
   "metadata": {},
   "source": [
    "<h2 style=\"color:MediumSeaGreen;\">More single qubit gates</h2>"
   ]
  },
  {
   "cell_type": "code",
   "execution_count": 5,
   "metadata": {},
   "outputs": [
    {
     "data": {
      "image/png": "[encoded data removed]",
      "text/plain": [
       "<Figure size 436.286x117.056 with 1 Axes>"
      ]
     },
     "execution_count": 5,
     "metadata": {},
     "output_type": "execute_result"
    }
   ],
   "source": [
    "circ = QuantumCircuit(1) # we omit the second argument as we will just draw the circuit, \n",
    "# without measuring.\n",
    "\n",
    "circ.h(0) # Adds a Hadamard on the zeroth qubit.\n",
    "\n",
    "circ.x(0) # Pauli X\n",
    "\n",
    "circ.y(0) # Pauli Y\n",
    "\n",
    "circ.z(0) # Pauli Z\n",
    "\n",
    "circ.draw(output='mpl')"
   ]
  },
  {
   "cell_type": "markdown",
   "metadata": {},
   "source": [
    "<h2 style=\"color:MediumSeaGreen;\">Circuits of multiple qubits</h2>\n",
    "\n",
    "Next, we'll build a circuit involving multiple qubits and multi-qubit gates."
   ]
  },
  {
   "cell_type": "code",
   "execution_count": 6,
   "metadata": {},
   "outputs": [
    {
     "data": {
      "image/png": "[encoded data removed]",
      "text/plain": [
       "<Figure size 371.107x284.278 with 1 Axes>"
      ]
     },
     "execution_count": 6,
     "metadata": {},
     "output_type": "execute_result"
    }
   ],
   "source": [
    "circ = QuantumCircuit(3) # the first argument specifies that we are building a circuit \n",
    "# of 3 qubits.\n",
    "\n",
    "circ.h(2) # Adds a Hadamard on the third qubit (Python starts counting from zero..)\n",
    "\n",
    "circ.x(1) # Adds a Pauli X on the second qubit\n",
    "\n",
    "circ.cx(0,1) # Adds a CNOT gate on control qubit 0 and target qubit 1.\n",
    "\n",
    "circ.cz(1,2) # Adds a Controlled-Z gate on control qubit 1 and target qubit 2. \n",
    "\n",
    "circ.draw(output='mpl')"
   ]
  },
  {
   "cell_type": "markdown",
   "metadata": {},
   "source": [
    "Here's another example. We'll run a circuit that creates the EPR pair $\\frac{1}{\\sqrt{2}}\\left| 00 \\right\\rangle + \\frac{1}{\\sqrt{2}}\\left| 11 \\right\\rangle$ and then measures both qubits."
   ]
  },
  {
   "cell_type": "code",
   "execution_count": 7,
   "metadata": {},
   "outputs": [
    {
     "data": {
      "image/png": "[encoded data removed]",
      "text/plain": [
       "<Figure size 287.294x284.278 with 1 Axes>"
      ]
     },
     "execution_count": 7,
     "metadata": {},
     "output_type": "execute_result"
    }
   ],
   "source": [
    "circ = QuantumCircuit(2,2) # the first argument specifies that we are building a circuit \n",
    "# of 2 qubits.\n",
    "# The second argument specifies that we'll be measuring both qubits.\n",
    "\n",
    "circ.h(0) # Adds a Hadamard on the first qubit (Python starts counting from zero..)\n",
    "\n",
    "circ.cx(0,1) # Adds a CNOT gate on control qubit 0 and target qubit 1. \n",
    "\n",
    "circ.draw(output='mpl')"
   ]
  },
  {
   "cell_type": "markdown",
   "metadata": {},
   "source": [
    "Next, we measure both qubits and plot the outputs."
   ]
  },
  {
   "cell_type": "code",
   "execution_count": 8,
   "metadata": {},
   "outputs": [
    {
     "name": "stdout",
     "output_type": "stream",
     "text": [
      "{'11': 498, '00': 502}\n"
     ]
    },
    {
     "data": {
      "image/png": "[encoded data removed]",
      "text/plain": [
       "<Figure size 700x500 with 1 Axes>"
      ]
     },
     "execution_count": 8,
     "metadata": {},
     "output_type": "execute_result"
    }
   ],
   "source": [
    "circ.measure([0,1],[1,0])\n",
    "# The first argument specifies the list of qubits that we are measuring,\n",
    "# The second argument specifies the list of output bits (created earlier) in which we will store the outcomes,\n",
    "# Notice that we have reversed the second list: this is because by convention qiskit orders the classical bits in reverse relative to the qubits.\n",
    "# We recommend always reversing the list of classical bits, so that the qubits and classical output bits are ordered in the same way.\n",
    "\n",
    "# Import Aer and execute\n",
    "from qiskit import Aer, execute\n",
    "\n",
    "backend_sim = Aer.get_backend('qasm_simulator')\n",
    "\n",
    "# We go ahead and execute the circuit with the function execute.\n",
    "sim = execute(circ, backend_sim, shots=1000)\n",
    "# Recall that shots specifies how many times the quantum circuit is run.\n",
    "\n",
    "# The results from the execution are stored in 'sim' and can be obtained using\n",
    "sim_result = sim.result()\n",
    "# From the result object we can get the count of the 0s and 1s from the circuit\n",
    "counts = sim_result.get_counts(circ)\n",
    "print(counts)\n",
    "\n",
    "# We plot the outcomes stored in the variable 'counts':\n",
    "from qiskit.visualization import plot_histogram\n",
    "plot_histogram(counts)"
   ]
  },
  {
   "cell_type": "markdown",
   "metadata": {},
   "source": [
    "As expected, the output is roughly evenly split between the strings '00' and '11'."
   ]
  },
  {
   "cell_type": "markdown",
   "metadata": {},
   "source": [
    "<h1 style=\"color:MediumSeaGreen;\">Running on actual quantum devices!</h1>"
   ]
  },
  {
   "cell_type": "markdown",
   "metadata": {},
   "source": [
    "Current quantum devices are relatively small and noisy, and, most importantly, so far still unable to demonstrate a speedup on a useful computational problem. Nonetheless, it is very exciting to live in a time where quantum devices are coming to life, and we can even interact with some of them remotely! Let's see how to do this.\n",
    "\n",
    "One convenient feature of the qBraid SDK is that it allows you to write your quantum circuit *once*, and run it most of the available quantum devices (from IBM, Rigetti, Xanadu, QuEra, Oxford Quantum Circuits, IonQ)."
   ]
  },
  {
   "cell_type": "markdown",
   "metadata": {},
   "source": [
    "<h2 style=\"color:MediumSeaGreen;\">Installing the qBraid-SDK environment in your workspace</h2>"
   ]
  },
  {
   "cell_type": "markdown",
   "metadata": {},
   "source": [
    "- At the very top of the right sidebar, click on the \"ENVS\" icon;\n",
    "- In the window that opens, click on \"ADD\" at the top right;\n",
    "- Look for qBraid-SDK in the list of environments. Click on the dropdown arrow on qBraid-SDK, and then on \"install\". This will install the environment in your virtual workspace. You can track the progress of the installation, by clicking on \"Browse Environments\" at the top, which will take you back to the page \"My Environments\".  \n",
    "- Once the installation is complete, click on \"Activate\"."
   ]
  },
  {
   "cell_type": "markdown",
   "metadata": {},
   "source": [
    "<h2 style=\"color:MediumSeaGreen;\">Switching the \"kernel\" of your Jupyter notebook</h2>"
   ]
  },
  {
   "cell_type": "markdown",
   "metadata": {},
   "source": [
    "Each Jupyter notebook uses a \"kernel\", i.e. a backend, to run code that appears in the notebook. We want to switch to a kernel where all of the necessary packages to run on quantum devices are already installed.\n",
    "\n",
    "Once you have completed the steps above, open the Jupyter notebook on which you plan to run your code on quantum devices. At the top right of the Jupyter notebook, click where it says \"Python [Default].\" (this is most likely what you will see unless you have already switched to a different kernel). A dropdown menu will appear (where Python 3[Default] is one of the options). You should now also see the option Python 3[qBraid-SDK]. Select this."
   ]
  },
  {
   "cell_type": "markdown",
   "metadata": {},
   "source": [
    "Before proceeding, there is one line that you need to run in order to be able to run quantum jobs within the qBraid-SDK environment:"
   ]
  },
  {
   "cell_type": "code",
   "execution_count": 9,
   "metadata": {},
   "outputs": [
    {
     "name": "stdout",
     "output_type": "stream",
     "text": [
      "\u001b[0;35mYou have already enabled qBraid Quantum Jobs in the qbraid_sdk environment.\u001b[0m\n"
     ]
    }
   ],
   "source": [
    "! qbraid jobs enable qbraid_sdk"
   ]
  },
  {
   "cell_type": "markdown",
   "metadata": {},
   "source": [
    "<h2 style=\"color:MediumSeaGreen;\">Getting information about available quantum devices</h2>"
   ]
  },
  {
   "cell_type": "markdown",
   "metadata": {
    "tags": []
   },
   "source": [
    "We can obtain information about the supported quantum devices using the \"get_devices\" function, as in the cell below. This returns information about the current status of supported devices (whether they are currently available to run quantum jobs or not), as well as their \"qBraid ID\", which you will need to include in your code when submitting a quantum job. You can also see the status of quantum devices by clicking on the \"DEVICES\" in the sidebar on the right. The \"qBraid ID\"'s returned by the \"get_devices\" function are more accurate than those displayed by clicking on \"DEVICES\" in the sidebar, so you should refer to the former when submitting quantum jobs."
   ]
  },
  {
   "cell_type": "markdown",
   "metadata": {},
   "source": [
    "There is a chance you might get the error \"No module named qbraid\" when running the cell below. If you do, just switch your kernel back to Python3[Default] momentarily, and then switch back to Python3[qBraid-SDK]. This should fix the issue."
   ]
  },
  {
   "cell_type": "code",
   "execution_count": 10,
   "metadata": {},
   "outputs": [
    {
     "data": {
      "text/html": [
       "<h3>Supported Devices</h3><table><tr>\n",
       "    <th style='text-align:left'>Provider</th>\n",
       "    <th style='text-align:left'>Name</th>\n",
       "    <th style='text-align:left'>qBraid ID</th>\n",
       "    <th style='text-align:left'>Status</th></tr>\n",
       "    <tr>\n",
       "        <td style='text-align:left'>AWS</td>\n",
       "        <td style='text-align:left'>DM1</td>\n",
       "        <td style='text-align:left'><code>aws_dm_sim</code></td>\n",
       "        <td><span style='color:green'>●</span></td></tr>\n",
       "        <tr>\n",
       "        <td style='text-align:left'>AWS</td>\n",
       "        <td style='text-align:left'>SV1</td>\n",
       "        <td style='text-align:left'><code>aws_sv_sim</code></td>\n",
       "        <td><span style='color:green'>●</span></td></tr>\n",
       "        <tr>\n",
       "        <td style='text-align:left'>AWS</td>\n",
       "        <td style='text-align:left'>TN1</td>\n",
       "        <td style='text-align:left'><code>aws_tn_sim</code></td>\n",
       "        <td><span style='color:green'>●</span></td></tr>\n",
       "        <tr>\n",
       "        <td style='text-align:left'>IBM</td>\n",
       "        <td style='text-align:left'>Belem</td>\n",
       "        <td style='text-align:left'><code>ibm_q_belem</code></td>\n",
       "        <td><span style='color:green'>●</span></td></tr>\n",
       "        <tr>\n",
       "        <td style='text-align:left'>IBM</td>\n",
       "        <td style='text-align:left'>Ext. stabilizer simulator</td>\n",
       "        <td style='text-align:left'><code>ibm_q_simulator_extended_stabilizer</code></td>\n",
       "        <td><span style='color:green'>●</span></td></tr>\n",
       "        <tr>\n",
       "        <td style='text-align:left'>IBM</td>\n",
       "        <td style='text-align:left'>Jakarta</td>\n",
       "        <td style='text-align:left'><code>ibm_q_jakarta</code></td>\n",
       "        <td><span style='color:green'>●</span></td></tr>\n",
       "        <tr>\n",
       "        <td style='text-align:left'>IBM</td>\n",
       "        <td style='text-align:left'>Lagos</td>\n",
       "        <td style='text-align:left'><code>ibm_q_lagos</code></td>\n",
       "        <td><span style='color:green'>●</span></td></tr>\n",
       "        <tr>\n",
       "        <td style='text-align:left'>IBM</td>\n",
       "        <td style='text-align:left'>Lima</td>\n",
       "        <td style='text-align:left'><code>ibm_q_lima</code></td>\n",
       "        <td><span style='color:green'>●</span></td></tr>\n",
       "        <tr>\n",
       "        <td style='text-align:left'>IBM</td>\n",
       "        <td style='text-align:left'>MPS simulator</td>\n",
       "        <td style='text-align:left'><code>ibm_q_simulator_mps</code></td>\n",
       "        <td><span style='color:green'>●</span></td></tr>\n",
       "        <tr>\n",
       "        <td style='text-align:left'>IBM</td>\n",
       "        <td style='text-align:left'>Manila</td>\n",
       "        <td style='text-align:left'><code>ibm_q_manila</code></td>\n",
       "        <td><span style='color:green'>●</span></td></tr>\n",
       "        <tr>\n",
       "        <td style='text-align:left'>IBM</td>\n",
       "        <td style='text-align:left'>Nairobi</td>\n",
       "        <td style='text-align:left'><code>ibm_q_nairobi</code></td>\n",
       "        <td><span style='color:green'>●</span></td></tr>\n",
       "        <tr>\n",
       "        <td style='text-align:left'>IBM</td>\n",
       "        <td style='text-align:left'>Oslo</td>\n",
       "        <td style='text-align:left'><code>ibm_q_oslo</code></td>\n",
       "        <td><span style='color:red'>○</span></td></tr>\n",
       "        <tr>\n",
       "        <td style='text-align:left'>IBM</td>\n",
       "        <td style='text-align:left'>Perth</td>\n",
       "        <td style='text-align:left'><code>ibm_q_perth</code></td>\n",
       "        <td><span style='color:green'>●</span></td></tr>\n",
       "        <tr>\n",
       "        <td style='text-align:left'>IBM</td>\n",
       "        <td style='text-align:left'>QASM simulator</td>\n",
       "        <td style='text-align:left'><code>ibm_q_qasm_simulator</code></td>\n",
       "        <td><span style='color:green'>●</span></td></tr>\n",
       "        <tr>\n",
       "        <td style='text-align:left'>IBM</td>\n",
       "        <td style='text-align:left'>Quito</td>\n",
       "        <td style='text-align:left'><code>ibm_q_quito</code></td>\n",
       "        <td><span style='color:green'>●</span></td></tr>\n",
       "        <tr>\n",
       "        <td style='text-align:left'>IBM</td>\n",
       "        <td style='text-align:left'>Stabilizer simulator</td>\n",
       "        <td style='text-align:left'><code>ibm_q_simulator_stabilizer</code></td>\n",
       "        <td><span style='color:green'>●</span></td></tr>\n",
       "        <tr>\n",
       "        <td style='text-align:left'>IBM</td>\n",
       "        <td style='text-align:left'>State vector simulator</td>\n",
       "        <td style='text-align:left'><code>ibm_q_simulator_statevector</code></td>\n",
       "        <td><span style='color:green'>●</span></td></tr>\n",
       "        <tr>\n",
       "        <td style='text-align:left'>IonQ</td>\n",
       "        <td style='text-align:left'>IonQ Device</td>\n",
       "        <td style='text-align:left'><code>aws_ionq</code></td>\n",
       "        <td><span style='color:green'>●</span></td></tr>\n",
       "        <tr>\n",
       "        <td style='text-align:left'>OQC</td>\n",
       "        <td style='text-align:left'>Lucy</td>\n",
       "        <td style='text-align:left'><code>aws_oqc_lucy</code></td>\n",
       "        <td><span style='color:red'>○</span></td></tr>\n",
       "        <tr>\n",
       "        <td style='text-align:left'>QuEra</td>\n",
       "        <td style='text-align:left'>Aquila</td>\n",
       "        <td style='text-align:left'><code>aws_quera_aquila</code></td>\n",
       "        <td><span style='color:red'>○</span></td></tr>\n",
       "        <tr>\n",
       "        <td style='text-align:left'>Rigetti</td>\n",
       "        <td style='text-align:left'>Aspen-M-2</td>\n",
       "        <td style='text-align:left'><code>aws_rigetti_aspen_m2</code></td>\n",
       "        <td><span style='color:red'>○</span></td></tr>\n",
       "        <tr>\n",
       "        <td style='text-align:left'>Rigetti</td>\n",
       "        <td style='text-align:left'>Aspen-M-3</td>\n",
       "        <td style='text-align:left'><code>aws_rigetti_aspen_m3</code></td>\n",
       "        <td><span style='color:red'>○</span></td></tr>\n",
       "        <tr>\n",
       "        <td style='text-align:left'>Xanadu</td>\n",
       "        <td style='text-align:left'>Borealis</td>\n",
       "        <td style='text-align:left'><code>aws_xanadu_borealis</code></td>\n",
       "        <td><span style='color:red'>○</span></td></tr>\n",
       "        <tr><td colspan='4'; style='text-align:right'>Device status updated 0 minutes ago</td></tr></table>"
      ],
      "text/plain": [
       "<IPython.core.display.HTML object>"
      ]
     },
     "metadata": {},
     "output_type": "display_data"
    }
   ],
   "source": [
    "from qbraid import device_wrapper, get_devices\n",
    "get_devices() "
   ]
  },
  {
   "cell_type": "markdown",
   "metadata": {},
   "source": [
    "<h2 style=\"color:MediumSeaGreen;\">Running on IBM's quantum devices</h2>"
   ]
  },
  {
   "cell_type": "markdown",
   "metadata": {},
   "source": [
    "We will now run the circuit we specified earlier (that creates an EPR pair and measures both qubits) on an IBM quantum device. In particular, we will use the function \"least_busy_QPU\" to select the IBM device with the shorter queue (meaning our quantum job will get completed sooner)."
   ]
  },
  {
   "cell_type": "code",
   "execution_count": 11,
   "metadata": {},
   "outputs": [
    {
     "name": "stdout",
     "output_type": "stream",
     "text": [
      "ibm_q_belem\n"
     ]
    }
   ],
   "source": [
    "from qbraid.devices.ibm import ibm_least_busy_qpu\n",
    "\n",
    "ibm_device_id = ibm_least_busy_qpu()\n",
    "\n",
    "print(ibm_device_id)"
   ]
  },
  {
   "cell_type": "markdown",
   "metadata": {},
   "source": [
    "In order to run our circuit on the latter quantum device, we need to create a \"device_wrapper\" object corresponding to that device. We do this by running the following cell:"
   ]
  },
  {
   "cell_type": "code",
   "execution_count": 13,
   "metadata": {},
   "outputs": [],
   "source": [
    "qbraid_ibm_device = device_wrapper(ibm_device_id)"
   ]
  },
  {
   "cell_type": "markdown",
   "metadata": {},
   "source": [
    "The \"device_wrapper\" we created allows us to run *any* quantum circuit on that device, whether the circuit is written in Qiskit or not. The \"device_wrapper\" handles transpilation between different \"languages\".\n",
    "\n",
    "Finally, let's submit the circuit \"circ\", which we created earlier in this notebook to the chosen device. We do this by calling the method \"run\" of a \"device_wrapper\" object. The \"run\" method takes as input the circuit we wish to run, and the number of \"shots\" of that circuit that we wish to run. We can then retrieve the status of our submitted job by calling the function \"status\"."
   ]
  },
  {
   "cell_type": "code",
   "execution_count": 14,
   "metadata": {},
   "outputs": [],
   "source": [
    "qbraid_ibm_job = qbraid_ibm_device.run(circ, shots=250)"
   ]
  },
  {
   "cell_type": "markdown",
   "metadata": {},
   "source": [
    "Our job has entered the queue."
   ]
  },
  {
   "cell_type": "code",
   "execution_count": 15,
   "metadata": {},
   "outputs": [
    {
     "data": {
      "text/plain": [
       "<JobStatus.QUEUED: 1>"
      ]
     },
     "execution_count": 15,
     "metadata": {},
     "output_type": "execute_result"
    }
   ],
   "source": [
    "qbraid_ibm_job.status()"
   ]
  },
  {
   "cell_type": "markdown",
   "metadata": {},
   "source": [
    "<h2 style=\"color:MediumSeaGreen;\">Troubleshooting</h2>"
   ]
  },
  {
   "cell_type": "markdown",
   "metadata": {},
   "source": [
    "If you got the error \"AccountNotFoundError\", when calling the \"run\" method above, you will need to fix this by running the following cells (currently commented out)."
   ]
  },
  {
   "cell_type": "code",
   "execution_count": null,
   "metadata": {},
   "outputs": [],
   "source": [
    "#! rm -rf ~/.qiskit"
   ]
  },
  {
   "cell_type": "code",
   "execution_count": null,
   "metadata": {},
   "outputs": [],
   "source": [
    "#! qbraid jobs enable qbraid_sdk"
   ]
  },
  {
   "cell_type": "markdown",
   "metadata": {},
   "source": [
    "If you now restart your kernel by going to the menu at the top, and clicking 'Kernel' --> 'Restart Kernel and Clear All Outputs', this should fix the issue."
   ]
  },
  {
   "cell_type": "markdown",
   "metadata": {},
   "source": [
    "<h2 style=\"color:MediumSeaGreen;\">Running on other devices</h2>"
   ]
  },
  {
   "cell_type": "markdown",
   "metadata": {},
   "source": [
    "We can run our circuit on other devices by just modifying the entry for the \"qBraid ID\" of the device. Find the \"qBraid ID\" of another supported device from the list you produced earlier, e.g. 'aws_rigetti_aspen_m2'."
   ]
  },
  {
   "cell_type": "code",
   "execution_count": 16,
   "metadata": {},
   "outputs": [],
   "source": [
    "device_2 = device_wrapper('aws_ionq')\n",
    "\n",
    "quantum_job2 = device_2.run(circ, shots = 250)"
   ]
  },
  {
   "cell_type": "code",
   "execution_count": 17,
   "metadata": {},
   "outputs": [
    {
     "data": {
      "text/plain": [
       "<JobStatus.QUEUED: 1>"
      ]
     },
     "execution_count": 17,
     "metadata": {},
     "output_type": "execute_result"
    }
   ],
   "source": [
    "quantum_job2.status()"
   ]
  },
  {
   "cell_type": "markdown",
   "metadata": {},
   "source": [
    "<h2 style=\"color:MediumSeaGreen;\">Retrieving quantum jobs</h2>"
   ]
  },
  {
   "cell_type": "markdown",
   "metadata": {},
   "source": [
    "The quantum jobs that you submitted may take a while to complete (they will most likely be in a queue for some time, could be hours..). In the meantime, if your notebook stays idle, your kernel may automatically restart, and all of the variables will be cleared. Nonetheless you can always retrieve the jobs you submitted using the function \"get_jobs\". This will display a list of the the 10 most recently submitted jobs."
   ]
  },
  {
   "cell_type": "code",
   "execution_count": 18,
   "metadata": {},
   "outputs": [],
   "source": [
    "from qbraid import get_jobs, job_wrapper"
   ]
  },
  {
   "cell_type": "code",
   "execution_count": 19,
   "metadata": {},
   "outputs": [
    {
     "data": {
      "text/html": [
       "<h3>Quantum Jobs</h3><table><tr>\n",
       "    <th style='text-align:left'>qBraid ID</th>\n",
       "    <th style='text-align:left'>Submitted</th>\n",
       "    <th style='text-align:left'>Status</th></tr>\n",
       "    <tr>\n",
       "        <td style='text-align:left'>aws_ionq-coladan-qjob-rkmht028mauwahztcvqq</td>\n",
       "        <td style='text-align:left'>2023-05-11T18:18:11.770Z</td>\n",
       "        <td style='text-align:left'><span style='color:blue'>QUEUED</span></td></tr>\n",
       "        <tr>\n",
       "        <td style='text-align:left'>ibmq_belem-coladan-qjob-tgc2ltxah608mmap644a</td>\n",
       "        <td style='text-align:left'>2023-05-11T18:15:06.942Z</td>\n",
       "        <td style='text-align:left'><span style='color:blue'>QUEUED</span></td></tr>\n",
       "        <tr>\n",
       "        <td style='text-align:left'>aws_ionq-coladan-qjob-0or1aavnbax8vbl57bw6</td>\n",
       "        <td style='text-align:left'>2023-05-10T19:49:02.288Z</td>\n",
       "        <td style='text-align:left'><span style='color:green'>COMPLETED</span></td></tr>\n",
       "        <tr>\n",
       "        <td style='text-align:left'>ibm_perth-coladan-qjob-p2341kdpq0iujk7sh7za</td>\n",
       "        <td style='text-align:left'>2023-05-10T19:43:08.300Z</td>\n",
       "        <td style='text-align:left'><span style='color:green'>COMPLETED</span></td></tr>\n",
       "        <tr>\n",
       "        <td style='text-align:left'>ibmq_belem-coladan-qjob-vixvt2i6g3vpwa6c6mhi</td>\n",
       "        <td style='text-align:left'>2023-05-10T07:52:59.639Z</td>\n",
       "        <td style='text-align:left'><span style='color:green'>COMPLETED</span></td></tr>\n",
       "        <tr>\n",
       "        <td style='text-align:left'>aws_dm_sim-coladan-qjob-zxckzrsntpfbe6ysezsa</td>\n",
       "        <td style='text-align:left'>2023-05-10T07:45:57.228Z</td>\n",
       "        <td style='text-align:left'><span style='color:green'>COMPLETED</span></td></tr>\n",
       "        <tr>\n",
       "        <td style='text-align:left'>aws_dm_sim-coladan-qjob-ai5e1bdzl91592qyo792</td>\n",
       "        <td style='text-align:left'>2023-05-10T07:45:53.780Z</td>\n",
       "        <td style='text-align:left'><span style='color:green'>COMPLETED</span></td></tr>\n",
       "        <tr>\n",
       "        <td style='text-align:left'>aws_sv_sim-coladan-qjob-v6y5ofqz8bwpmf6d492x</td>\n",
       "        <td style='text-align:left'>2023-05-10T07:43:50.749Z</td>\n",
       "        <td style='text-align:left'><span style='color:green'>COMPLETED</span></td></tr>\n",
       "        <tr>\n",
       "        <td style='text-align:left'>aws_sv_sim-coladan-qjob-1utzbr6mosf5tvvozqhs</td>\n",
       "        <td style='text-align:left'>2023-05-10T07:36:29.948Z</td>\n",
       "        <td style='text-align:left'><span style='color:green'>COMPLETED</span></td></tr>\n",
       "        <tr><td colspan='4'; style='text-align:right'>Displaying 9/9 jobs matching query</td></tr></table>"
      ],
      "text/plain": [
       "<IPython.core.display.HTML object>"
      ]
     },
     "metadata": {},
     "output_type": "display_data"
    }
   ],
   "source": [
    "get_jobs()"
   ]
  },
  {
   "cell_type": "markdown",
   "metadata": {},
   "source": [
    "From the list, you can copy the qBraid ID of the job your are interested in, and if it's status is \"COMPLETED\", you will be able to retrieve the results as follows. You first define a \"job_wrapper\" object corresponding to one particular job."
   ]
  },
  {
   "cell_type": "code",
   "execution_count": 22,
   "metadata": {},
   "outputs": [],
   "source": [
    "saved_job_id = 'ibmq_belem-coladan-qjob-tgc2ltxah608mmap644a' #insert the qBraid ID of one of your submitted jobs from the list above\n",
    "qjob = job_wrapper(saved_job_id)"
   ]
  },
  {
   "cell_type": "markdown",
   "metadata": {},
   "source": [
    "You can then retrieve the results and plot them."
   ]
  },
  {
   "cell_type": "code",
   "execution_count": 23,
   "metadata": {},
   "outputs": [
    {
     "data": {
      "image/png": "[encoded data removed]",
      "text/plain": [
       "<Figure size 700x500 with 1 Axes>"
      ]
     },
     "execution_count": 23,
     "metadata": {},
     "output_type": "execute_result"
    }
   ],
   "source": [
    "qresult = qjob.result()\n",
    "qresult.plot_counts()"
   ]
  },
  {
   "cell_type": "code",
   "execution_count": null,
   "metadata": {},
   "outputs": [],
   "source": []
  }
 ],
 "metadata": {
  "kernelspec": {
   "display_name": "Python 3 [qBraid-SDK]",
   "language": "python",
   "name": "python3_qbraid_sdk_9j9sjy"
  },
  "language_info": {
   "codemirror_mode": {
    "name": "ipython",
    "version": 3
   },
   "file_extension": ".py",
   "mimetype": "text/x-python",
   "name": "python",
   "nbconvert_exporter": "python",
   "pygments_lexer": "ipython3",
   "version": "3.9.10"
  },
  "toc-autonumbering": true,
  "widgets": {
   "application/vnd.jupyter.widget-state+json": {
    "state": {},
    "version_major": 2,
    "version_minor": 0
   }
  }
 },
 "nbformat": 4,
 "nbformat_minor": 4
}
