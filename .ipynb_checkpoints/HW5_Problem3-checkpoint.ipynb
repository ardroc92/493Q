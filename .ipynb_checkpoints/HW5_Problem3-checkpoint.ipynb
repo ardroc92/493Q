{
 "cells": [
  {
   "cell_type": "markdown",
   "metadata": {},
   "source": [
    "<h1 style=\"color:MediumSeaGreen;\">HW5 Problem 3</h1>"
   ]
  },
  {
   "cell_type": "markdown",
   "metadata": {},
   "source": [
    "<h2 style=\"color:MediumSeaGreen;\">Comparing different quantum architectures at the CHSH game</h2>"
   ]
  },
  {
   "cell_type": "markdown",
   "metadata": {},
   "source": [
    "In this problem, you will investigate how well different quantum architecures are capable of winning the CHSH game."
   ]
  },
  {
   "cell_type": "markdown",
   "metadata": {},
   "source": [
    "(a) As we have seen in lecture, Qiskit allows you create a circuit consisting of the most commonly used quantum gates (e.g. X,Y,Z,CNOT etc.). Beyond this, Qiskit also allows you to arbitrarily specify the entries of a unitary matrix that you wish to insert in your circuit, for example using the Python package Numpy, and it will then figure out behind the scenes how best to implement the specified unitary using its native gates). \n",
    "\n",
    "Recall that in the CHSH game's optimal strategy that we saw in class, Bob makes a measurement in the basis $\\mathcal{B}_0 = \\{\\cos(\\frac{\\pi}{8}) |0\\rangle +\\sin(\\frac{\\pi}{8}) |1\\rangle, -\\sin(\\frac{\\pi}{8}) |0\\rangle +\\cos(\\frac{\\pi}{8}) |1\\rangle\\}$ if he receives question 0, and a measurement in the basis $\\mathcal{B}_1 = \\{\\cos(\\frac{-\\pi}{8}) |0\\rangle +\\sin(\\frac{-\\pi}{8}) |1\\rangle, -\\sin(\\frac{-\\pi}{8}) |0\\rangle +\\cos(\\frac{-\\pi}{8}) |1\\rangle\\}$ if he receives question 1. Moreover, recall from HW2 (Problem 1) that measuring in a basis is equivalent to applying an appropriate unitary transformation followed by a measurement in the standard basis. Let $B_0$ and $B_1$ be these unitary transformations for the measurements in the bases $\\mathcal{B}_0$ and $\\mathcal{B}_1$ respectively. In the following cell, define Numpy arrays corresponding to the matrix representations of $B_0$ and $B_1$. You may find the comments in the code helpful to guide you in the right direction if you are not familiar with Numpy."
   ]
  },
  {
   "cell_type": "code",
   "execution_count": null,
   "metadata": {},
   "outputs": [],
   "source": [
    "import numpy as np\n",
    "import math\n",
    "\n",
    "theta_0 = math.pi/8\n",
    "theta_1 = -math.pi/8\n",
    "\n",
    "#In numpy, you can take cosine and sine of a number x as \"np.cos(x)\", \"np.sin(x)\".\n",
    "#The syntax for defining your matrix matrices should be, e.g.\n",
    "#B_0 = np.array([[a11, a12], [a21, a22]])\n",
    "#where a11, a12, a21, a22 are the entries."
   ]
  },
  {
   "cell_type": "markdown",
   "metadata": {},
   "source": [
    "(b) In the next cell, you will execute many iterations of the CHSH game, and at the end compute and print the fraction of times the game was won. For each iteration, you will:\n",
    "\n",
    "(i) Create an EPR pair;\n",
    "\n",
    "(ii) Sample Alice and Bob's question uniformly at random;\n",
    "\n",
    "(iii) Perform Alice and Bob's actions (implemented as an appropriate unitary followed by a measurement in the standard basis).\n",
    "\n",
    "The cell contains comments and bits and pieces of the code to guide you in the right direction."
   ]
  },
  {
   "cell_type": "code",
   "execution_count": null,
   "metadata": {},
   "outputs": [],
   "source": [
    "from qiskit import QuantumCircuit\n",
    "import random\n",
    "from qiskit.extensions import *\n",
    "from qiskit import Aer, execute\n",
    "\n",
    "\n",
    "N = 1000 #number of games played\n",
    "\n",
    "for i in range(N):              #We will play the game N times\n",
    "    \n",
    "                                #Define a quantum circuit 'circ' on two qubits that creates an EPR pair\n",
    "                                 \n",
    "    \n",
    "    x = random.randint(0,1)      #sampling a question for Alice\n",
    "    y = random.randint(0,1)      #sampling a question for Bob\n",
    "    \n",
    "    if x == 0:                   \n",
    "                                 #add to the previous circuit the appropriate unitary that Alice applies on question x=0\n",
    "    else:                        \n",
    "                                 #add to the previous circuit the appropriate unitary that Alice applies on question x=1\n",
    "        \n",
    "    if y == 0:                    #add Bob's unitary gate B_0, which you have defined in the previous cell (this is already added for you)\n",
    "        circ.unitary(B_0, range(1), label = 'B_0')\n",
    "    else:                        #add Bob's unitary gate B_1, which you have defined in the previous cell (this is already added for you)\n",
    "        circ.unitary(B_1, range(1), label = 'B_1')\n",
    "    \n",
    "    #add a measurement of both qubits to your circuit\n",
    "    \n",
    "    #execute ONE SHOT of your circuit using the 'qasm_simulator' that we used in class. \n",
    "    \n",
    "    counts = sim_result.get_counts(circ)\n",
    "    a = int(list(dict.keys(counts))[0][0])      # Alice's answer\n",
    "    b = int(list(dict.keys(counts))[0][1])      # Bob's answer\n",
    "\n",
    "                                       #check the winning condition, and keep track of the information of whether they won or lost\n",
    "    \n",
    "#print the ratio of games that were won to the total games played N"
   ]
  },
  {
   "cell_type": "markdown",
   "metadata": {},
   "source": [
    "If you implemented your code correctly, you should have observed that the CHSH game is won roughly 0.85 fraction of the times. In the rest of the question, you will test your code on actual quantum devices to see how they perform!"
   ]
  },
  {
   "cell_type": "markdown",
   "metadata": {},
   "source": [
    "(c) In the next cell, modify your code so that the questions $x,y$ are not sampled *within* each iteration. Instead, for each of the four possible pairs of questions $(x,y)$:\n",
    "\n",
    "(i) Build the quantum circuit corresponding to the questions $(x,y)$;\n",
    "\n",
    "(ii) Run 250 shots of that quantum circuit (again using the 'qasm simulator');\n",
    "\n",
    "(iii) Compute and print the fraction of times the game was won.\n",
    "\n",
    "Verify that, for each of the possible question pairs, the fraction of times that the game is won is approximately $0.85$.\n",
    "\n",
    "This modification is necessary so that the cost of running your program on actual quantum devices does not become exorbitant! Please implement this modification very carefully! :) And only proceed further if this part works correctly (otherwise you will burn your precious credits)."
   ]
  },
  {
   "cell_type": "code",
   "execution_count": null,
   "metadata": {},
   "outputs": [],
   "source": [
    "#your code here"
   ]
  },
  {
   "cell_type": "markdown",
   "metadata": {},
   "source": [
    "(d) In this part you will modify your code from part (c) so that the call to the 'qasm simulator' is replaced by a call to an actual quantum device! You will use qBraid's modules to run the same circuit on multiple quantum devices. Run the following cells:"
   ]
  },
  {
   "cell_type": "code",
   "execution_count": null,
   "metadata": {
    "tags": []
   },
   "outputs": [],
   "source": [
    "! qbraid jobs enable qbraid_sdk"
   ]
  },
  {
   "cell_type": "code",
   "execution_count": null,
   "metadata": {
    "tags": []
   },
   "outputs": [],
   "source": [
    "import qbraid\n",
    "qbraid.get_devices() "
   ]
  },
  {
   "cell_type": "markdown",
   "metadata": {
    "tags": []
   },
   "source": [
    "What you obtained from running the previous cell is a list of all supported devices and their current status (i.e. whether they are available for a quantum circuit to be submitted). Choose one of the available IBM devices and create a \"device_wrapper\" object corresponding to that device id by completing the following cell:"
   ]
  },
  {
   "cell_type": "code",
   "execution_count": null,
   "metadata": {
    "tags": []
   },
   "outputs": [],
   "source": [
    "qbraid_id = #insert your chosen device id\n",
    "qdevice = device_wrapper(qbraid_id)"
   ]
  },
  {
   "cell_type": "markdown",
   "metadata": {},
   "source": [
    "Now, modify your code from part (c) so that, for each of the four pairs of questions, the corresponding quantum circuit is executed on your chosen quantum device (with 250 shots). Plot your results. "
   ]
  },
  {
   "cell_type": "code",
   "execution_count": null,
   "metadata": {},
   "outputs": [],
   "source": [
    "#your code"
   ]
  },
  {
   "cell_type": "markdown",
   "metadata": {},
   "source": [
    "What is the average CHSH winning probability (across the four possible question pairs) that you observed?"
   ]
  },
  {
   "cell_type": "markdown",
   "metadata": {},
   "source": [
    "(e) Run your code on 3 more quantum devices (among IonQ, Xanadu, Rigetti, QuEra, and Oxford Quantum Circuits), and compare their performance."
   ]
  },
  {
   "cell_type": "code",
   "execution_count": null,
   "metadata": {
    "tags": []
   },
   "outputs": [],
   "source": [
    "#your code"
   ]
  }
 ],
 "metadata": {
  "kernelspec": {
   "display_name": "Python 3 [qBraid-SDK]",
   "language": "python",
   "name": "python3_qbraid_sdk_9j9sjy"
  },
  "language_info": {
   "codemirror_mode": {
    "name": "ipython",
    "version": 3
   },
   "file_extension": ".py",
   "mimetype": "text/x-python",
   "name": "python",
   "nbconvert_exporter": "python",
   "pygments_lexer": "ipython3",
   "version": "3.9.10"
  },
  "toc-autonumbering": true,
  "widgets": {
   "application/vnd.jupyter.widget-state+json": {
    "state": {},
    "version_major": 2,
    "version_minor": 0
   }
  }
 },
 "nbformat": 4,
 "nbformat_minor": 4
}
