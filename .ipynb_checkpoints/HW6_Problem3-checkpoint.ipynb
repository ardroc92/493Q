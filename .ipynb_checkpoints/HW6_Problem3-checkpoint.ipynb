{
 "cells": [
  {
   "cell_type": "markdown",
   "metadata": {},
   "source": [
    "<h1 style=\"color:MediumSeaGreen;\">HW6 Problem 3</h1>"
   ]
  },
  {
   "cell_type": "markdown",
   "metadata": {},
   "source": [
    "<h2 style=\"color:MediumSeaGreen;\">Implementing Grover's algorithm</h2>"
   ]
  },
  {
   "cell_type": "markdown",
   "metadata": {},
   "source": [
    "In this problem, you will implement Grover's algorithm, and execute your program on quantum devices."
   ]
  },
  {
   "cell_type": "markdown",
   "metadata": {},
   "source": [
    "Let $f: \\{0,1\\}^3 \\rightarrow \\{0,1\\}$. You are given access to $f$ via a unitary $U_f$ (that implements $f$ reversibly, just like in lecture), i.e. for all $x \\in \\{0,1\\}^3$, $y \\in\\{0,1\\}$,\n",
    "\n",
    "$$ |x\\rangle|y\\rangle \\rightarrow |x\\rangle |y \\oplus f(x)\\rangle \\,.$$\n",
    "\n",
    "You can use the gate $U_f$, but you don't get to see the \"code\" behind it.\n",
    "\n",
    "Your task is to code Grover's algorithm and find the unique marked input $x^* \\in \\{0,1\\}^3$ such that $f(x^*) = 1$. Of course, a simpler way to do this would be to run $f$ on every input in the list and find $x^*$ by brute force, but of course this is not the point of this problem.."
   ]
  },
  {
   "cell_type": "markdown",
   "metadata": {},
   "source": [
    "(a) Recall from HW4 Problem 4 that the following is an implementation of a classical OR gate on three bits. For the rest of the problem, the OR gate refers to the OR gate on *three* bits.\n",
    "\n",
    "<img src=\"OR_of_three_bits.png\" height=\"123\" width=\"358\" />"
   ]
  },
  {
   "cell_type": "markdown",
   "metadata": {},
   "source": [
    "Recall morever that in HW4 Problem 4 you wrote down a reversible implementation of the OR gate, i.e. a unitary $U_{\\text{OR}}$ such that, for all $x_1,x_2,x_3 \\in \\{0,1\\}$,\n",
    "$$ U_{\\text{OR}} |x_1 x_2 x_3\\rangle |0\\rangle^L = |x_1 x_2 x_3\\rangle |OR(x_1, x_2,x_3)\\rangle |0\\rangle^{L-1} \\,.$$\n",
    "\n",
    "where $L$ is the number of auxiliary qubits in the circuit. In HW4 Problem 4, you should have found that  $U_{\\text{OR}}$ can be implemented using three auxiliary qubits, i.e. $L =3$ (two qubits from part HW4 Problem 4(a) and one extra qubit to \"uncompute the garbage\" in 4(b)). So, from here on, we will take $L =3$.\n",
    "\n",
    "Recall, that your implementation of $U_{\\text{OR}}$ in HW4 Problem 4 consisted only of the gates $X$ and $\\widetilde{\\text{NAND}}$, where the latter is a reversible implementation of the classical NAND gate. Now, it turns out that $\\widetilde{\\text{NAND}}$ is not a gate that is directly supported in Qiskit. Instead, the $\\text{CCNOT}$ gate (\"controlled-controlled-NOT\"), which is very similar, is supported, where: \n",
    "$$ \\text{CCNOT} |x_1\\rangle |x_2\\rangle |y\\rangle = |x_1\\rangle |x_2\\rangle |y \\oplus \\text{AND}(x_1,x_2)\\rangle \\,.$$\n",
    "\n",
    "Notice that $$(I \\otimes I \\otimes X) \\cdot \\text{CCNOT} = \\widetilde{\\text{NAND}} \\,.$$\n",
    "\n",
    "Create and draw a Qiskit circuit on 5 qubits (6 is also fine) that implements $U_{\\text{OR}}$, consisting only of the gates $X$, $\\text{CCNOT}$, and $\\text{CNOT}$ (you can find the syntax for adding a $\\text{CCNOT}$ gate in the next cell). Make sure to remember to \"uncompute the garbage\" by using the technique from HW4 Problem 4(b)."
   ]
  },
  {
   "cell_type": "code",
   "execution_count": null,
   "metadata": {},
   "outputs": [],
   "source": [
    "#your code\n",
    "#.ccx() is the syntax for adding a CCNOT gate. The arguments are the indices of the qubits it acts on."
   ]
  },
  {
   "cell_type": "markdown",
   "metadata": {},
   "source": [
    "Test that the circuit you created behaves as expected on the 8 standard basis states of the form $|x_1 x_2 x_3\\rangle |0\\rangle^3$ by running a simulation of your circuit (with a measurement of all the qubits at the end) for each of these states."
   ]
  },
  {
   "cell_type": "code",
   "execution_count": null,
   "metadata": {},
   "outputs": [],
   "source": [
    "#your code"
   ]
  },
  {
   "cell_type": "markdown",
   "metadata": {},
   "source": [
    "(b) Modify your circuit for $U_{\\text{OR}}$ so that it instead computes OR \"in the phase\", i.e. create a circuit implementing the unitary $O_{\\text{OR}}$:\n",
    "\n",
    "$$ |x \\rangle \\mapsto (-1)^{\\text{OR}(x)}|x \\rangle \\,,$$\n",
    "\n",
    "(this circuit may use auxiliary qubits, but, as usual, they should be returned to the state $|0 \\rangle$). Draw the circuit. (if you have done things correctly, this circuit should also be on at most 6 qubits)."
   ]
  },
  {
   "cell_type": "code",
   "execution_count": null,
   "metadata": {},
   "outputs": [],
   "source": [
    "#your code"
   ]
  },
  {
   "cell_type": "markdown",
   "metadata": {},
   "source": [
    "(c) As mentioned at the start, in this problem you wish to find the unique marked input of $f$, and you are given access to $U_f$ as a black-box. You can import the gate $U_f$ with the following line:"
   ]
  },
  {
   "cell_type": "code",
   "execution_count": null,
   "metadata": {},
   "outputs": [],
   "source": [
    "from python_functions.grover_black_box_function import U_f"
   ]
  },
  {
   "cell_type": "markdown",
   "metadata": {},
   "source": [
    "You can then add $U_f$ to a Qiskit circuit using the same syntax as the one used for Deutsch's algorithm in HW5 Problem 2. In order to do this, you need to know how many qubits $U_f$ acts on! $U_f$ acts on a total of $5$ qubits (it needs an auxiliary qubit to implement $f$) and acts as follows, for all $x \\in \\{0,1\\}^3, y \\in \\{0,1\\}$,\n",
    "\n",
    "$$|x\\rangle|y\\rangle |0 \\rangle\\rightarrow |x\\rangle |y \\oplus f(x)\\rangle | 0\\rangle\\,.$$\n",
    "\n",
    "Using only one application of $U_f$, create and draw a circuit that implements the \"phase oracle\" $O_f$:\n",
    "\n",
    "$$ | x\\rangle \\mapsto (-1)^{f(x)}|x\\rangle \\,.$$\n",
    "\n",
    "(the circuit for $O_f$ can again use auxiliary qubits, but the total number of qubits should be at most $6$)."
   ]
  },
  {
   "cell_type": "code",
   "execution_count": null,
   "metadata": {},
   "outputs": [],
   "source": [
    "#your code"
   ]
  },
  {
   "cell_type": "markdown",
   "metadata": {},
   "source": [
    "(d) Create circuits implementing Grover's algorithm with respectively $1,2$, and $3$ applications of the \"Grover iterate\". Draw these three circuits. Then, run simulations of each (with 1000 shots), and plot the results (don't forget to apply the \"transpile\" function, like you did for Deutsch's algorithm, to the circuit that contains $U_f$ before running it -- this is a technicality that helps Qiskit compile the circuit despite the presence of the \"custom\" gate $U_f$). Do more Grover iterates always help? If yes, explain why. If not, explain why."
   ]
  },
  {
   "cell_type": "code",
   "execution_count": null,
   "metadata": {},
   "outputs": [],
   "source": [
    "#your code"
   ]
  },
  {
   "cell_type": "markdown",
   "metadata": {},
   "source": [
    "(e) Let $x^*$ be the most frequent measurement outcome. Verify that indeed $f(x^*) = 1$ by running a simulation of the circuit that applies $U_f$ on $|x^*\\rangle |0\\rangle^2$ (and then measures the qubit that is supposed to contain $f(x^*)$)."
   ]
  },
  {
   "cell_type": "code",
   "execution_count": null,
   "metadata": {},
   "outputs": [],
   "source": [
    "#your code"
   ]
  },
  {
   "cell_type": "markdown",
   "metadata": {},
   "source": [
    "(f) Run the most promising of the three circuits on at least two different quantum devices (300 shots each). Plot your results."
   ]
  },
  {
   "cell_type": "code",
   "execution_count": null,
   "metadata": {},
   "outputs": [],
   "source": [
    "#your code"
   ]
  }
 ],
 "metadata": {
  "kernelspec": {
   "display_name": "Python 3 [Default]",
   "language": "python",
   "name": "python3"
  },
  "language_info": {
   "codemirror_mode": {
    "name": "ipython",
    "version": 3
   },
   "file_extension": ".py",
   "mimetype": "text/x-python",
   "name": "python",
   "nbconvert_exporter": "python",
   "pygments_lexer": "ipython3",
   "version": "3.11.9"
  },
  "toc-autonumbering": true,
  "widgets": {
   "application/vnd.jupyter.widget-state+json": {
    "state": {},
    "version_major": 2,
    "version_minor": 0
   }
  }
 },
 "nbformat": 4,
 "nbformat_minor": 4
}
