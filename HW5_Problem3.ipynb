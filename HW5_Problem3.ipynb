{
 "cells": [
  {
   "cell_type": "markdown",
   "metadata": {},
   "source": [
    "<h1 style=\"color:MediumSeaGreen;\">HW5 Problem 3</h1>"
   ]
  },
  {
   "cell_type": "markdown",
   "metadata": {},
   "source": [
    "<h2 style=\"color:MediumSeaGreen;\">Comparing different quantum architectures at the CHSH game</h2>"
   ]
  },
  {
   "cell_type": "markdown",
   "metadata": {},
   "source": [
    "In this problem, you will investigate how well different quantum architecures are capable of winning the CHSH game."
   ]
  },
  {
   "cell_type": "markdown",
   "metadata": {},
   "source": [
    "(a) As we have seen in lecture, Qiskit allows you create a circuit consisting of the most commonly used quantum gates (e.g. X,Y,Z,CNOT etc.). Beyond this, Qiskit also allows you to arbitrarily specify the entries of a unitary matrix that you wish to insert in your circuit, for example using the Python package Numpy, and it will then figure out behind the scenes how best to implement the specified unitary using its native gates). \n",
    "\n",
    "Recall that in the CHSH game's optimal strategy that we saw in class, Bob makes a measurement in the basis $\\mathcal{B}_0 = \\{\\cos(\\frac{\\pi}{8}) |0\\rangle +\\sin(\\frac{\\pi}{8}) |1\\rangle, -\\sin(\\frac{\\pi}{8}) |0\\rangle +\\cos(\\frac{\\pi}{8}) |1\\rangle\\}$ if he receives question 0, and a measurement in the basis $\\mathcal{B}_1 = \\{\\cos(\\frac{-\\pi}{8}) |0\\rangle +\\sin(\\frac{-\\pi}{8}) |1\\rangle, -\\sin(\\frac{-\\pi}{8}) |0\\rangle +\\cos(\\frac{-\\pi}{8}) |1\\rangle\\}$ if he receives question 1. Moreover, recall from HW2 (Problem 1) that measuring in a basis is equivalent to applying an appropriate unitary transformation followed by a measurement in the standard basis. Let $B_0$ and $B_1$ be these unitary transformations for the measurements in the bases $\\mathcal{B}_0$ and $\\mathcal{B}_1$ respectively. In the following cell, define Numpy arrays corresponding to the matrix representations of $B_0$ and $B_1$. You may find the comments in the code helpful to guide you in the right direction if you are not familiar with Numpy."
   ]
  },
  {
   "cell_type": "code",
   "execution_count": null,
   "metadata": {},
   "outputs": [],
   "source": [
    "import numpy as np\n",
    "import math\n",
    "\n",
    "theta_0 = math.pi/8\n",
    "theta_1 = -math.pi/8\n",
    "\n",
    "B_0 = np.array([[np.cos(theta_0), np.sin(theta_0)], [np.sin(theta_0), -np.cos(theta_0)]])  #Bob's unitary gate B_0\n",
    "B_1 = np.array([[np.cos(theta_1), np.sin(theta_1)], [np.sin(theta_1), -np.cos(theta_1)]])  #Bob's unitary gate B_1\n",
    "#In numpy, you can take cosine and sine of a number x as \"np.cos(x)\", \"np.sin(x)\".\n",
    "#The syntax for defining your matrix matrices should be, e.g.\n",
    "#B_0 = np.array([[a11, a12], [a21, a22]])\n",
    "#where a11, a12, a21, a22 are the entries."
   ]
  },
  {
   "cell_type": "markdown",
   "metadata": {},
   "source": [
    "In the next cell, you will execute many iterations of the CHSH game, and at the end compute the fraction of times the game was won. For each iteration, you will:\n",
    "\n",
    "(i) Create an EPR pair;\n",
    "\n",
    "(ii) Sample Alice and Bob's question uniformly at random;\n",
    "\n",
    "(iii) Perform Alice and Bob's actions (implemented as an appropriate unitary followed by a measurement in the standard basis)."
   ]
  },
  {
   "cell_type": "code",
   "execution_count": null,
   "metadata": {},
   "outputs": [],
   "source": [
    "from qiskit import QuantumCircuit\n",
    "import random\n",
    "from qiskit.extensions import *\n",
    "from qiskit import Aer, execute\n",
    "\n",
    "\n",
    "N = 1 #number of games played\n",
    "N_win = 0 #initialize number of games won to zero\n",
    "\n",
    "for i in range(N):              #We will run this experiment many times to estimate the probability of Alice and Bob winning.\n",
    "    \n",
    "    circ = QuantumCircuit(2,2)   #initializing the circuit to create an EPR pair\n",
    "    circ.h(0)                    \n",
    "    circ.cx(0,1)                 #creating an EPR pair.\n",
    "    \n",
    "    x = random.randint(0,1)      #sampling a question for Alice\n",
    "    y = random.randint(0,1)      #sampling a question for Bob\n",
    "    \n",
    "    if x == 0:                    #if x=0, Alice's circuit is the identity followed by a measurement\n",
    "        pass                \n",
    "    else:                        #if x=1, Alice applies a H gate first before measuring.\n",
    "        circ.h(0)                \n",
    "        \n",
    "    if y == 0:                    #if y=0, Bob applies the unitary gate B_0, which you have defined in the previous cell\n",
    "        circ.unitary(B_0, range(1), label = 'B_0')\n",
    "    else:                        #if y=1, Bob applies the unitary gate B_1, which you have defined in the previous cell\n",
    "        circ.unitary(B_1, range(1), label = 'B_1')\n",
    "    \n",
    "    circ.measure([0,1], [1,0])\n",
    "    \n",
    "    #execute and obtain Alice's and Bob's answers a and b\n",
    "    #backend_sim = Aer.get_backend('qasm_simulator')\n",
    "    #sim = execute(circ, backend_sim, shots=1) \n",
    "    #sim_result = sim.result()\n",
    "    #counts = sim_result.get_counts(circ)\n",
    "    #a = int(list(dict.keys(counts))[0][0])      # Alice's answer\n",
    "    #b = int(list(dict.keys(counts))[0][1])      # Bob's answer\n",
    "\n",
    "    if (a + b) %2 == x*y:                  # check if a+b = xy, if so add a win to the count of won games N_win.\n",
    "        N_win += 1\n",
    "    \n",
    "print(N_win/N)  #print the ratio of games that were won N_win to total games played N"
   ]
  },
  {
   "cell_type": "code",
   "execution_count": null,
   "metadata": {},
   "outputs": [],
   "source": [
    "! qbraid jobs enable qbraid_sdk"
   ]
  },
  {
   "cell_type": "code",
   "execution_count": null,
   "metadata": {},
   "outputs": [],
   "source": [
    "from qbraid import circuit_wrapper, device_wrapper\n",
    "qbraid_id = 'ibm_q_nairobi'\n",
    "qprogram = circuit_wrapper(circ)\n",
    "qdevice = device_wrapper(qbraid_id)\n",
    "qjob_0 = qdevice.run(qprogram, shots=10)"
   ]
  },
  {
   "cell_type": "code",
   "execution_count": null,
   "metadata": {},
   "outputs": [],
   "source": [
    "circ = QuantumCircuit(2,2)   #initializing the circuit to create an EPR pair\n",
    "circ.h(0)                    \n",
    "circ.cx(0,1)  "
   ]
  },
  {
   "cell_type": "code",
   "execution_count": null,
   "metadata": {},
   "outputs": [],
   "source": [
    "from qbraid import device_wrapper, get_devices, circuit_wrapper\n",
    "qbraid_id = 'aws_tn_sim'\n",
    "qdevice = device_wrapper(qbraid_id)\n",
    "qprogram = circuit_wrapper(circ)\n",
    "qdevice.run(qprogram, shots=10)"
   ]
  },
  {
   "cell_type": "code",
   "execution_count": null,
   "metadata": {},
   "outputs": [],
   "source": [
    "!qbraid jobs enable amazon_braket"
   ]
  },
  {
   "cell_type": "code",
   "execution_count": null,
   "metadata": {},
   "outputs": [],
   "source": [
    "!qbraid jobs enable amazon_braket"
   ]
  },
  {
   "cell_type": "code",
   "execution_count": null,
   "metadata": {},
   "outputs": [],
   "source": [
    "import boto3\n",
    "from braket.aws import AwsDevice, AwsQuantumTask\n",
    "from braket.circuits import Circuit\n",
    "\n",
    "# create the Amazon Braket circuit\n",
    "bell = Circuit().h(0).cnot(0, 1)\n",
    "\n",
    "print(bell)"
   ]
  },
  {
   "cell_type": "code",
   "execution_count": null,
   "metadata": {},
   "outputs": [],
   "source": [
    "device = AwsDevice(\"arn:aws:braket:::device/quantum-simulator/amazon/sv1\")"
   ]
  },
  {
   "cell_type": "code",
   "execution_count": null,
   "metadata": {},
   "outputs": [],
   "source": [
    "task = device.run(bell, shots=100)"
   ]
  },
  {
   "cell_type": "code",
   "execution_count": null,
   "metadata": {},
   "outputs": [],
   "source": [
    "print(task.result().measurement_counts)\n"
   ]
  },
  {
   "cell_type": "code",
   "execution_count": null,
   "metadata": {},
   "outputs": [],
   "source": [
    "!qbraid jobs get-credits"
   ]
  },
  {
   "cell_type": "code",
   "execution_count": 1,
   "metadata": {},
   "outputs": [],
   "source": [
    "import qbraid"
   ]
  },
  {
   "cell_type": "code",
   "execution_count": null,
   "metadata": {},
   "outputs": [],
   "source": [
    "import cirq\n",
    "\n",
    "# circuit to generate a Bell State\n",
    "cirq_circuit = cirq.Circuit()\n",
    "q0, q1 = cirq.LineQubit.range(2)\n",
    "cirq_circuit.append(cirq.H(q0))\n",
    "cirq_circuit.append(cirq.CNOT(q0, q1))\n",
    "\n",
    "# add measurement at the end\n",
    "cirq_circuit.append(cirq.measure(q0, q1, key=\"result\"))\n",
    "\n",
    "print(cirq_circuit)"
   ]
  },
  {
   "cell_type": "code",
   "execution_count": 1,
   "metadata": {},
   "outputs": [
    {
     "ename": "ModuleNotFoundError",
     "evalue": "No module named 'qbraid'",
     "output_type": "error",
     "traceback": [
      "\u001b[0;31m---------------------------------------------------------------------------\u001b[0m",
      "\u001b[0;31mModuleNotFoundError\u001b[0m                       Traceback (most recent call last)",
      "Cell \u001b[0;32mIn[1], line 1\u001b[0m\n\u001b[0;32m----> 1\u001b[0m \u001b[38;5;28;01mfrom\u001b[39;00m \u001b[38;5;21;01mqbraid\u001b[39;00m \u001b[38;5;28;01mimport\u001b[39;00m device_wrapper\n\u001b[1;32m      2\u001b[0m \u001b[38;5;28;01mfrom\u001b[39;00m \u001b[38;5;21;01mqbraid\u001b[39;00m\u001b[38;5;21;01m.\u001b[39;00m\u001b[38;5;21;01mdevices\u001b[39;00m\u001b[38;5;21;01m.\u001b[39;00m\u001b[38;5;21;01mibm\u001b[39;00m \u001b[38;5;28;01mimport\u001b[39;00m ibm_least_busy_qpu\n",
      "\u001b[0;31mModuleNotFoundError\u001b[0m: No module named 'qbraid'"
     ]
    }
   ],
   "source": [
    "from qbraid import device_wrapper\n",
    "from qbraid.devices.ibm import ibm_least_busy_qpu"
   ]
  },
  {
   "cell_type": "code",
   "execution_count": null,
   "metadata": {},
   "outputs": [],
   "source": [
    "ibm_device_id = ibm_least_busy_qpu()\n",
    "\n",
    "print(ibm_device_id)\n",
    "\n",
    "qbraid_ibm_device = device_wrapper(ibm_device_id)\n",
    "qbraid_ibm_job = qbraid_ibm_device.run(cirq_circuit, shots=100)\n",
    "\n",
    "qbraid_ibm_job.status()"
   ]
  },
  {
   "cell_type": "code",
   "execution_count": null,
   "metadata": {},
   "outputs": [],
   "source": [
    "ibm_device_id = ibm_least_busy_qpu()\n",
    "\n",
    "qbraid_ibm_device = device_wrapper(ibm_device_id)\n",
    "qbraid_ibm_job = qbraid_ibm_device.run(cirq_circuit, shots=100)\n",
    "\n",
    "qbraid_ibm_job.status()"
   ]
  },
  {
   "cell_type": "code",
   "execution_count": null,
   "metadata": {},
   "outputs": [],
   "source": [
    "ibm_result = qbraid_ibm_job.result()\n",
    "ibm_counts = ibm_result.measurement_counts()\n",
    "ibm_result.plot_counts()"
   ]
  },
  {
   "cell_type": "code",
   "execution_count": null,
   "metadata": {},
   "outputs": [],
   "source": [
    "! qbraid jobs enable qbraid_sdk"
   ]
  },
  {
   "cell_type": "code",
   "execution_count": null,
   "metadata": {},
   "outputs": [],
   "source": []
  }
 ],
 "metadata": {
  "kernelspec": {
   "display_name": "Python 3 [qBraid-SDK]",
   "language": "python",
   "name": "python3_qbraid_sdk_9j9sjy"
  },
  "language_info": {
   "codemirror_mode": {
    "name": "ipython",
    "version": 3
   },
   "file_extension": ".py",
   "mimetype": "text/x-python",
   "name": "python",
   "nbconvert_exporter": "python",
   "pygments_lexer": "ipython3",
   "version": "3.9.10"
  },
  "toc-autonumbering": true,
  "widgets": {
   "application/vnd.jupyter.widget-state+json": {
    "state": {},
    "version_major": 2,
    "version_minor": 0
   }
  }
 },
 "nbformat": 4,
 "nbformat_minor": 4
}
