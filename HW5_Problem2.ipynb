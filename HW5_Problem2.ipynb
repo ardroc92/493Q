{
 "cells": [
  {
   "cell_type": "markdown",
   "metadata": {},
   "source": [
    "<h1 style=\"color:MediumSeaGreen;\">HW5 Problem 2</h1>"
   ]
  },
  {
   "cell_type": "markdown",
   "metadata": {},
   "source": [
    "<h2 style=\"color:MediumSeaGreen;\">Implementing Deutsch's algorithm</h2>"
   ]
  },
  {
   "cell_type": "markdown",
   "metadata": {},
   "source": [
    "In this problem, you will implement Deutsch's algorithm, and execute your program on an actual quantum device.\n",
    "\n",
    "Let $f: \\{0,1\\} \\rightarrow \\{0,1\\}$ be an unknown function from one bit to one bit. In this problem, you are given access to $f$ via a unitary $U_f$ (that implements $U_f$ reversibly, just like in lecture), i.e.\n",
    "\n",
    "$$ |x\\rangle |y\\rangle \\rightarrow |x\\rangle |y \\oplus f(x)\\rangle \\,.$$\n",
    "\n",
    "You can use the gate $U_f$, but you don't get to see the \"code\" behind it.\n",
    "\n",
    "Your task is to determine, making just a single use of $U_f$, whether $f$ is constant (i.e. $f(0) = f(1)$) or balanced (i.e. $f(0) \\neq f(1)$).\n",
    "\n",
    "In the next cell, we show you how to invoke $U_f$."
   ]
  },
  {
   "cell_type": "code",
   "execution_count": null,
   "metadata": {},
   "outputs": [],
   "source": [
    "from qiskit import QuantumCircuit\n",
    "from python_functions.U_f import U_f\n",
    "\n",
    "circ = QuantumCircuit(2)\n",
    "\n",
    "U_f(circ, [0,1]) #the first argument specifies the circuit that you want to add U_f too, and the second argument lists the qubits it acts on. This should be a list of two indexes. \n",
    "\n",
    "circ.draw()"
   ]
  },
  {
   "cell_type": "markdown",
   "metadata": {},
   "source": [
    "(a) (i) Create a circuit implementing Deutsch's algorithm.\n",
    "(ii) Draw it.\n",
    "(iii) Execute it with 1000 shots using IBM's 'qasm simulator'.\n",
    "(iv) Plot your results, and determine whether the function is constant or balanced.\n",
    "\n",
    "Hint: Look at the \"First_Quantum_Program.ipynb\" file from lecture to find the \"boilerplate\" for some of these parts."
   ]
  },
  {
   "cell_type": "code",
   "execution_count": null,
   "metadata": {},
   "outputs": [],
   "source": [
    "#your code"
   ]
  },
  {
   "cell_type": "markdown",
   "metadata": {},
   "source": [
    "(b) In this part, you will modify your code so that it executs on one of IBM's quantum devices. \n",
    "\n",
    "Run the following cells:"
   ]
  },
  {
   "cell_type": "code",
   "execution_count": null,
   "metadata": {},
   "outputs": [],
   "source": [
    "! qbraid jobs enable qbraid_sdk"
   ]
  },
  {
   "cell_type": "code",
   "execution_count": null,
   "metadata": {},
   "outputs": [],
   "source": [
    "from qbraid import circuit_wrapper, get_devices\n",
    "get_devices() "
   ]
  },
  {
   "cell_type": "markdown",
   "metadata": {},
   "source": [
    "What you obtained from running the previous cell is a list of all supported devices and their current status (i.e. whether they are available for a quantum circuit to be submitted). Choose one of the available IBM devices and create a \"device_wrapper\" object corresponding to that device id by completing the following cell:"
   ]
  },
  {
   "cell_type": "code",
   "execution_count": null,
   "metadata": {},
   "outputs": [],
   "source": [
    "qbraid_id = #insert your chosen device id\n",
    "qdevice = device_wrapper(qbraid_id)"
   ]
  },
  {
   "cell_type": "markdown",
   "metadata": {},
   "source": [
    "Run the quantum circuit you created earlier using the method \"run\" that we saw in class, and plot the results. How often does the quantum device fail to correctly identify whether the function is constant or balanced?"
   ]
  },
  {
   "cell_type": "code",
   "execution_count": null,
   "metadata": {},
   "outputs": [],
   "source": [
    "#your code"
   ]
  },
  {
   "cell_type": "markdown",
   "metadata": {},
   "source": [
    "Run your quantum circuit on two more of the available IBM devices. Do the results change significantly?"
   ]
  },
  {
   "cell_type": "code",
   "execution_count": null,
   "metadata": {},
   "outputs": [],
   "source": [
    "#your code"
   ]
  }
 ],
 "metadata": {
  "kernelspec": {
   "display_name": "Python 3 [qBraid-SDK]",
   "language": "python",
   "name": "python3_qbraid_sdk_9j9sjy"
  },
  "language_info": {
   "codemirror_mode": {
    "name": "ipython",
    "version": 3
   },
   "file_extension": ".py",
   "mimetype": "text/x-python",
   "name": "python",
   "nbconvert_exporter": "python",
   "pygments_lexer": "ipython3",
   "version": "3.9.10"
  },
  "toc-autonumbering": true,
  "widgets": {
   "application/vnd.jupyter.widget-state+json": {
    "state": {},
    "version_major": 2,
    "version_minor": 0
   }
  }
 },
 "nbformat": 4,
 "nbformat_minor": 4
}
