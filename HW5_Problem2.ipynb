{
 "cells": [
  {
   "cell_type": "markdown",
   "metadata": {},
   "source": [
    "<h1 style=\"color:MediumSeaGreen;\">HW5 Problem 2</h1>"
   ]
  },
  {
   "cell_type": "markdown",
   "metadata": {},
   "source": [
    "<h2 style=\"color:MediumSeaGreen;\">Implementing Deutsch's algorithm</h2>"
   ]
  },
  {
   "cell_type": "markdown",
   "metadata": {},
   "source": [
    "In this problem, you will implement Deutsch's algorithm, and execute your program on an actual quantum device.\n",
    "\n",
    "Let $f: \\{0,1\\} \\rightarrow \\{0,1\\}$ be an unknown function from one bit to one bit. In this problem, you are given access to $f$ via a unitary $U_f$ (that implements $U_f$ reversibly, just like in lecture), i.e.\n",
    "\n",
    "$$ |x\\rangle |y\\rangle \\rightarrow |x\\rangle |y \\oplus f(x)\\rangle \\,.$$\n",
    "\n",
    "You can use the gate $U_f$, but you don't get to see the \"code\" behind it.\n",
    "\n",
    "Your task is to determine, making just a single use of $U_f$, whether $f$ is constant (i.e. $f(0) = f(1)$) or balanced (i.e. $f(0) \\neq f(1)$).\n",
    "\n",
    "In the next cell, we show you how to invoke $U_f$."
   ]
  },
  {
   "cell_type": "code",
   "execution_count": null,
   "metadata": {
    "tags": []
   },
   "outputs": [],
   "source": [
    "from qiskit import QuantumCircuit\n",
    "from python_functions.U_f import U_f\n",
    "\n",
    "circ = QuantumCircuit(2)\n",
    "\n",
    "U_f(circ, [0,1]) #the first argument specifies the circuit that you want to add U_f too, and the second argument lists the qubits it acts on. This should be a list of two indexes. \n",
    "\n",
    "circ.draw()"
   ]
  },
  {
   "cell_type": "markdown",
   "metadata": {},
   "source": [
    "(a) (i) Create a circuit implementing Deutsch's algorithm.\n",
    "(ii) Draw it.\n",
    "(iii) Execute it with 250 shots using IBM's AerSimulator or one of the other available simulators.\n",
    "(iv) Plot your results, and determine whether the function is constant or balanced.\n",
    "\n",
    "Hint: You can look at the \"First_Quantum_Program.ipynb\" file from lecture to find the \"boilerplate\" for some of these parts."
   ]
  },
  {
   "cell_type": "code",
   "execution_count": null,
   "metadata": {},
   "outputs": [],
   "source": [
    "#For technical reasons (since the hidden unitary U_f is involved) you'll want to import the 'transpile' function \n",
    "from qiskit import transpile\n",
    "#and compile your circuit into gates that are either \"native\" to the device that you are submitting to, or easily implementable on that device.\n",
    "#You will do this by applying the function transpile on your circuit using the syntax at the bottom, \n",
    "#where circ is the name of the circuit you created\n",
    "#Depending on the device, you choose you might have to pick a different set of native gates (in this case, it's ok to look online\n",
    "#for the documentation of the device you want to submit to).\n",
    "\n",
    "\n",
    "#your code\n",
    "\n",
    "\n",
    "transp_circ = transpile(circ, basis_gates=['rx', 'ry', 'cx'])\n",
    "\n",
    "\n",
    "#your code\n"
   ]
  },
  {
   "cell_type": "markdown",
   "metadata": {},
   "source": [
    "(b) In this part, you will modify your code so that it executs on one of actual quantum devices. \n",
    "\n",
    "Run the following cells:"
   ]
  },
  {
   "cell_type": "code",
   "execution_count": null,
   "metadata": {},
   "outputs": [],
   "source": [
    "from qbraid import QbraidProvider\n",
    "\n",
    "provider = QbraidProvider()\n",
    "\n",
    "provider.get_devices()"
   ]
  },
  {
   "cell_type": "markdown",
   "metadata": {},
   "source": [
    "What you obtained from running the previous cell is a list of all supported devices and their current status (i.e. whether they are available for a quantum circuit to be submitted)."
   ]
  },
  {
   "cell_type": "markdown",
   "metadata": {},
   "source": [
    "Run the quantum circuit you created earlier on a quantum device of your choice among the available ones (you can follow the commands from the 'First_quantum_program' notebook), and plot the results. How often does the quantum device fail to correctly identify whether the function is constant or balanced? Be careful with what quantum device you decide to submit to! In the DEVICES list on the right, you can see the pricing of each device by clicking on the dropdown arrow next to the device. There is usually a fixed cost for each submitted job plus a cost for each shot (i.e. each execution of the circuit). "
   ]
  },
  {
   "cell_type": "code",
   "execution_count": null,
   "metadata": {},
   "outputs": [],
   "source": [
    "#your code"
   ]
  },
  {
   "cell_type": "markdown",
   "metadata": {},
   "source": [
    "Run your quantum circuit on a different quantum device. Do the results change significantly?"
   ]
  },
  {
   "cell_type": "code",
   "execution_count": null,
   "metadata": {},
   "outputs": [],
   "source": [
    "#your code"
   ]
  }
 ],
 "metadata": {
  "kernelspec": {
   "display_name": "Python 3 [qBraid]",
   "language": "python",
   "name": "python3_qbraid_sdk_9j9sjy"
  },
  "language_info": {
   "codemirror_mode": {
    "name": "ipython",
    "version": 3
   },
   "file_extension": ".py",
   "mimetype": "text/x-python",
   "name": "python",
   "nbconvert_exporter": "python",
   "pygments_lexer": "ipython3",
   "version": "3.11.9"
  },
  "toc-autonumbering": true,
  "widgets": {
   "application/vnd.jupyter.widget-state+json": {
    "state": {},
    "version_major": 2,
    "version_minor": 0
   }
  }
 },
 "nbformat": 4,
 "nbformat_minor": 4
}
